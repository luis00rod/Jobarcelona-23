{
 "cells": [
  {
   "cell_type": "code",
   "execution_count": 1,
   "id": "21069947",
   "metadata": {},
   "outputs": [
    {
     "name": "stderr",
     "output_type": "stream",
     "text": [
      "C:\\Users\\Asus\\anaconda3\\envs\\aaaa\\lib\\site-packages\\scipy\\__init__.py:146: UserWarning: A NumPy version >=1.16.5 and <1.23.0 is required for this version of SciPy (detected version 1.24.2\n",
      "  warnings.warn(f\"A NumPy version >={np_minversion} and <{np_maxversion}\"\n"
     ]
    }
   ],
   "source": [
    "import pandas as pd\n",
    "import numpy as np\n",
    "from sklearn.model_selection import train_test_split\n",
    "from sklearn.preprocessing import StandardScaler, OneHotEncoder, LabelEncoder\n",
    "from sklearn.compose import ColumnTransformer\n",
    "from sklearn.pipeline import Pipeline\n",
    "from sklearn.metrics import accuracy_score, f1_score, confusion_matrix, classification_report\n",
    "from tensorflow.keras.models import Sequential\n",
    "from tensorflow.keras.layers import Dense\n",
    "from tensorflow.keras.optimizers import Adam"
   ]
  },
  {
   "cell_type": "code",
   "execution_count": 2,
   "id": "c9931e03",
   "metadata": {},
   "outputs": [],
   "source": [
    "class Predictor:\n",
    "    def __init__(self, data_path):\n",
    "        self.data_path = data_path\n",
    "        self.model = None\n",
    "        self.preprocessor = None\n",
    "        self.X_train = None\n",
    "        self.X_test = None\n",
    "        self.y_train = None\n",
    "        self.y_test = None\n",
    "\n",
    "    def load_and_preprocess_data(self):\n",
    "        data = pd.read_csv(self.data_path)\n",
    "\n",
    "        cat_features = ['Gender', 'Education_Level', 'Marital_Status', 'Income_Category', 'Card_Category']\n",
    "        num_features = ['Customer_Age', 'Dependent_count', 'Months_on_book', 'Total_Relationship_Count',\\\n",
    "                        'Months_Inactive_12_mon', 'Contacts_Count_12_mon', 'Credit_Limit', 'Total_Revolving_Bal',\\\n",
    "                        'Avg_Open_To_Buy', 'Total_Amt_Chng_Q4_Q1', 'Total_Trans_Amt', 'Total_Trans_Ct',\\\n",
    "                        'Total_Ct_Chng_Q4_Q1', 'Avg_Utilization_Ratio']\n",
    "\n",
    "        self.preprocessor = ColumnTransformer(\n",
    "            transformers=[\n",
    "                ('num', StandardScaler(), num_features),\n",
    "                ('cat', OneHotEncoder(), cat_features)\n",
    "            ])\n",
    "        \n",
    "        X = data.drop([\"train_idx\",'CLIENTNUM', 'Attrition_Flag'], axis=1)\n",
    "        y = data['Attrition_Flag']\n",
    "\n",
    "        X = self.preprocessor.fit_transform(X)\n",
    "\n",
    "        self.X_train, self.X_test, self.y_train, self.y_test = train_test_split(X, y, test_size=0.2, random_state=42, stratify=y)\n",
    "\n",
    "    def build_and_train_model(self):\n",
    "        self.model = Sequential()\n",
    "        self.model.add(Dense(64, input_dim=self.X_train.shape[1], activation='relu'))\n",
    "        self.model.add(Dense(32, activation='relu'))\n",
    "        self.model.add(Dense(1, activation='sigmoid'))\n",
    "\n",
    "        self.model.compile(loss='binary_crossentropy', optimizer=Adam(learning_rate=0.001), metrics=['accuracy'])\n",
    "\n",
    "        self.model.fit(self.X_train, self.y_train, epochs=50, batch_size=32, verbose=1)\n",
    "\n",
    "    def evaluate_model(self):\n",
    "        y_pred = (self.model.predict(self.X_test) > 0.5).astype(\"int32\")\n",
    "\n",
    "        print(\"Accuracy: \", accuracy_score(self.y_test, y_pred))\n",
    "        print(\"F1-score: \", f1_score(self.y_test, y_pred))\n",
    "        print(\"\\nConfusion Matrix:\\n\", confusion_matrix(self.y_test, y_pred))\n",
    "        print(\"\\nClassification Report:\\n\", classification_report(self.y_test, y_pred))\n",
    "\n",
    "    def prediction_test(self, new_data_path):\n",
    "        new_data = pd.read_csv(new_data_path)\n",
    "        X_new = self.preprocessor.transform(new_data)\n",
    "        y_pred = (self.model.predict(X_new) > 0.5).astype(\"int32\")\n",
    "        return y_pred\n",
    "\n"
   ]
  },
  {
   "cell_type": "code",
   "execution_count": 3,
   "id": "0438a538",
   "metadata": {},
   "outputs": [
    {
     "name": "stdout",
     "output_type": "stream",
     "text": [
      "Epoch 1/50\n",
      "203/203 [==============================] - 1s 2ms/step - loss: 0.3299 - accuracy: 0.8560\n",
      "Epoch 2/50\n",
      "203/203 [==============================] - 0s 2ms/step - loss: 0.2257 - accuracy: 0.9085\n",
      "Epoch 3/50\n",
      "203/203 [==============================] - 0s 2ms/step - loss: 0.1951 - accuracy: 0.9213\n",
      "Epoch 4/50\n",
      "203/203 [==============================] - 0s 2ms/step - loss: 0.1747 - accuracy: 0.9285\n",
      "Epoch 5/50\n",
      "203/203 [==============================] - 1s 4ms/step - loss: 0.1604 - accuracy: 0.9360\n",
      "Epoch 6/50\n",
      "203/203 [==============================] - 1s 3ms/step - loss: 0.1498 - accuracy: 0.9390\n",
      "Epoch 7/50\n",
      "203/203 [==============================] - 1s 3ms/step - loss: 0.1451 - accuracy: 0.9418\n",
      "Epoch 8/50\n",
      "203/203 [==============================] - 0s 2ms/step - loss: 0.1370 - accuracy: 0.9472\n",
      "Epoch 9/50\n",
      "203/203 [==============================] - 0s 2ms/step - loss: 0.1351 - accuracy: 0.9463\n",
      "Epoch 10/50\n",
      "203/203 [==============================] - 0s 2ms/step - loss: 0.1281 - accuracy: 0.9509\n",
      "Epoch 11/50\n",
      "203/203 [==============================] - 0s 2ms/step - loss: 0.1259 - accuracy: 0.9491\n",
      "Epoch 12/50\n",
      "203/203 [==============================] - 0s 2ms/step - loss: 0.1203 - accuracy: 0.9514\n",
      "Epoch 13/50\n",
      "203/203 [==============================] - 0s 2ms/step - loss: 0.1171 - accuracy: 0.9543\n",
      "Epoch 14/50\n",
      "203/203 [==============================] - 0s 2ms/step - loss: 0.1128 - accuracy: 0.9554\n",
      "Epoch 15/50\n",
      "203/203 [==============================] - 1s 3ms/step - loss: 0.1082 - accuracy: 0.9591\n",
      "Epoch 16/50\n",
      "203/203 [==============================] - 0s 2ms/step - loss: 0.1040 - accuracy: 0.9602\n",
      "Epoch 17/50\n",
      "203/203 [==============================] - 0s 2ms/step - loss: 0.1023 - accuracy: 0.9603\n",
      "Epoch 18/50\n",
      "203/203 [==============================] - 0s 2ms/step - loss: 0.0973 - accuracy: 0.9640\n",
      "Epoch 19/50\n",
      "203/203 [==============================] - 1s 3ms/step - loss: 0.0954 - accuracy: 0.9645\n",
      "Epoch 20/50\n",
      "203/203 [==============================] - 0s 2ms/step - loss: 0.0902 - accuracy: 0.9662\n",
      "Epoch 21/50\n",
      "203/203 [==============================] - 0s 2ms/step - loss: 0.0866 - accuracy: 0.9656\n",
      "Epoch 22/50\n",
      "203/203 [==============================] - 0s 2ms/step - loss: 0.0828 - accuracy: 0.9690\n",
      "Epoch 23/50\n",
      "203/203 [==============================] - 1s 3ms/step - loss: 0.0815 - accuracy: 0.9716\n",
      "Epoch 24/50\n",
      "203/203 [==============================] - 0s 2ms/step - loss: 0.0785 - accuracy: 0.9707\n",
      "Epoch 25/50\n",
      "203/203 [==============================] - 0s 2ms/step - loss: 0.0744 - accuracy: 0.9748\n",
      "Epoch 26/50\n",
      "203/203 [==============================] - 0s 2ms/step - loss: 0.0702 - accuracy: 0.9750\n",
      "Epoch 27/50\n",
      "203/203 [==============================] - 1s 4ms/step - loss: 0.0674 - accuracy: 0.9767\n",
      "Epoch 28/50\n",
      "203/203 [==============================] - 0s 2ms/step - loss: 0.0650 - accuracy: 0.9772\n",
      "Epoch 29/50\n",
      "203/203 [==============================] - 0s 2ms/step - loss: 0.0619 - accuracy: 0.9784\n",
      "Epoch 30/50\n",
      "203/203 [==============================] - 1s 2ms/step - loss: 0.0596 - accuracy: 0.9789\n",
      "Epoch 31/50\n",
      "203/203 [==============================] - 0s 2ms/step - loss: 0.0575 - accuracy: 0.9799\n",
      "Epoch 32/50\n",
      "203/203 [==============================] - 0s 2ms/step - loss: 0.0569 - accuracy: 0.9801\n",
      "Epoch 33/50\n",
      "203/203 [==============================] - 0s 2ms/step - loss: 0.0541 - accuracy: 0.9810\n",
      "Epoch 34/50\n",
      "203/203 [==============================] - 0s 1ms/step - loss: 0.0495 - accuracy: 0.9841\n",
      "Epoch 35/50\n",
      "203/203 [==============================] - 0s 2ms/step - loss: 0.0484 - accuracy: 0.9843\n",
      "Epoch 36/50\n",
      "203/203 [==============================] - 0s 1ms/step - loss: 0.0455 - accuracy: 0.9861\n",
      "Epoch 37/50\n",
      "203/203 [==============================] - 0s 2ms/step - loss: 0.0420 - accuracy: 0.9877\n",
      "Epoch 38/50\n",
      "203/203 [==============================] - 0s 2ms/step - loss: 0.0463 - accuracy: 0.9844\n",
      "Epoch 39/50\n",
      "203/203 [==============================] - 0s 2ms/step - loss: 0.0405 - accuracy: 0.9887\n",
      "Epoch 40/50\n",
      "203/203 [==============================] - 0s 2ms/step - loss: 0.0376 - accuracy: 0.9894\n",
      "Epoch 41/50\n",
      "203/203 [==============================] - 0s 2ms/step - loss: 0.0364 - accuracy: 0.9895\n",
      "Epoch 42/50\n",
      "203/203 [==============================] - 0s 2ms/step - loss: 0.0354 - accuracy: 0.9904\n",
      "Epoch 43/50\n",
      "203/203 [==============================] - 0s 2ms/step - loss: 0.0339 - accuracy: 0.9894\n",
      "Epoch 44/50\n",
      "203/203 [==============================] - 0s 2ms/step - loss: 0.0305 - accuracy: 0.9906\n",
      "Epoch 45/50\n",
      "203/203 [==============================] - 0s 1ms/step - loss: 0.0305 - accuracy: 0.9910\n",
      "Epoch 46/50\n",
      "203/203 [==============================] - 0s 2ms/step - loss: 0.0286 - accuracy: 0.9921\n",
      "Epoch 47/50\n",
      "203/203 [==============================] - 0s 2ms/step - loss: 0.0272 - accuracy: 0.9932\n",
      "Epoch 48/50\n",
      "203/203 [==============================] - 0s 2ms/step - loss: 0.0259 - accuracy: 0.9934\n",
      "Epoch 49/50\n",
      "203/203 [==============================] - 0s 2ms/step - loss: 0.0281 - accuracy: 0.9907\n",
      "Epoch 50/50\n",
      "203/203 [==============================] - 0s 1ms/step - loss: 0.0252 - accuracy: 0.9926\n",
      "Accuracy:  0.9376927822331894\n",
      "F1-score:  0.9632593670425609\n",
      "\n",
      "Confusion Matrix:\n",
      " [[ 196   64]\n",
      " [  37 1324]]\n",
      "\n",
      "Classification Report:\n",
      "               precision    recall  f1-score   support\n",
      "\n",
      "           0       0.84      0.75      0.80       260\n",
      "           1       0.95      0.97      0.96      1361\n",
      "\n",
      "    accuracy                           0.94      1621\n",
      "   macro avg       0.90      0.86      0.88      1621\n",
      "weighted avg       0.94      0.94      0.94      1621\n",
      "\n"
     ]
    }
   ],
   "source": [
    "# Uso de la clase Predictor\n",
    "predictor = Predictor(\"\\\\Users\\\\Asus\\\\Desktop\\\\Hack_2023\\\\supply_chain_train.csv\")\n",
    "predictor.load_and_preprocess_data()\n",
    "predictor.build_and_train_model()\n",
    "predictor.evaluate_model()"
   ]
  },
  {
   "cell_type": "code",
   "execution_count": 9,
   "id": "c6b9dc0a",
   "metadata": {},
   "outputs": [
    {
     "name": "stdout",
     "output_type": "stream",
     "text": [
      "Predictions for new data:\n",
      " [[1]\n",
      " [1]\n",
      " [1]\n",
      " ...\n",
      " [1]\n",
      " [1]\n",
      " [1]]\n"
     ]
    }
   ],
   "source": [
    "# Predicción sobre nuevos datos\n",
    "new_data_path = \"\\\\Users\\\\Asus\\\\Desktop\\\\Hack_2023\\\\supply_chain_test.csv\"\n",
    "predictions = predictor.prediction_test(new_data_path)\n",
    "print(\"Predictions for test set:\\n\", predictions)"
   ]
  },
  {
   "cell_type": "code",
   "execution_count": 13,
   "id": "a9e506d3",
   "metadata": {},
   "outputs": [
    {
     "data": {
      "text/plain": [
       "(array([0, 1]), array([ 297, 1729], dtype=int64))"
      ]
     },
     "execution_count": 13,
     "metadata": {},
     "output_type": "execute_result"
    }
   ],
   "source": [
    "np.unique(predictions, return_counts=True)"
   ]
  },
  {
   "cell_type": "code",
   "execution_count": 16,
   "id": "5d1e25fc",
   "metadata": {},
   "outputs": [],
   "source": [
    "pred = pd.DataFrame(predictions, columns=[\"target\"]).to_csv('prediction.csv', header=True, index = False)"
   ]
  }
 ],
 "metadata": {
  "kernelspec": {
   "display_name": "Python 3 (ipykernel)",
   "language": "python",
   "name": "python3"
  },
  "language_info": {
   "codemirror_mode": {
    "name": "ipython",
    "version": 3
   },
   "file_extension": ".py",
   "mimetype": "text/x-python",
   "name": "python",
   "nbconvert_exporter": "python",
   "pygments_lexer": "ipython3",
   "version": "3.9.13"
  }
 },
 "nbformat": 4,
 "nbformat_minor": 5
}
